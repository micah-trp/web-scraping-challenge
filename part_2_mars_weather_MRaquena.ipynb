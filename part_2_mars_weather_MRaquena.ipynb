{
 "cells": [
  {
   "attachments": {},
   "cell_type": "markdown",
   "metadata": {},
   "source": [
    "# Module 12 Challenge\n",
    "## Deliverable 2: Scrape and Analyse Mars Weather Data"
   ]
  },
  {
   "cell_type": "code",
   "execution_count": 25,
   "metadata": {},
   "outputs": [],
   "source": [
    "# Import relevant libraries\n",
    "from splinter import Browser\n",
    "from bs4 import BeautifulSoup as soup\n",
    "import matplotlib.pyplot as plt\n",
    "import pandas as pd\n",
    "from webdriver_manager.chrome import ChromeDriverManager\n",
    "from pprint import pprint\n",
    "import matplotlib.colors as mcolors"
   ]
  },
  {
   "cell_type": "code",
   "execution_count": 26,
   "metadata": {},
   "outputs": [],
   "source": [
    "# Set up Splinter \n",
    "path= {'executable_path':ChromeDriverManager().install()}\n",
    "browser = Browser('chrome', ** path, headless= False)\n",
    "\n",
    "# browser = Browser('chrome')"
   ]
  },
  {
   "attachments": {},
   "cell_type": "markdown",
   "metadata": {},
   "source": [
    "### Step 1: Visit the Website\n",
    "\n",
    "Use automated browsing to visit the [Mars Temperature Data Site](https://static.bc-edx.com/data/web/mars_facts/temperature.html). Inspect the page to identify which elements to scrape.\n",
    "\n",
    "   > **Hint** To identify which elements to scrape, you might want to inspect the page by using Chrome DevTools to discover whether the table contains usable classes.\n"
   ]
  },
  {
   "cell_type": "code",
   "execution_count": null,
   "metadata": {},
   "outputs": [],
   "source": [
    "# Visit the website\n",
    "# https://static.bc-edx.com/data/web/mars_facts/temperature.html\n",
    "\n",
    "url = \"https://static.bc-edx.com/data/web/mars_facts/temperature.html\"\n",
    "browser.visit(url)\n",
    "html = browser.html\n"
   ]
  },
  {
   "attachments": {},
   "cell_type": "markdown",
   "metadata": {},
   "source": [
    "### Step 2: Scrape the Table\n",
    "\n",
    "Create a Beautiful Soup object and use it to scrape the data in the HTML table.\n",
    "\n",
    "Note that this can also be achieved by using the Pandas `read_html` function. However, use Beautiful Soup here to continue sharpening your web scraping skills."
   ]
  },
  {
   "cell_type": "code",
   "execution_count": null,
   "metadata": {},
   "outputs": [],
   "source": [
    "# Create a Beautiful Soup Object\n",
    "soup = soup(html, 'html.parser')"
   ]
  },
  {
   "cell_type": "code",
   "execution_count": null,
   "metadata": {},
   "outputs": [],
   "source": [
    "# Find the table - use class table. \n",
    "table = soup.find('table', class_='table')\n",
    "table_rows= soup.find_all('tr', class_=\"data-row\")\n",
    "\n",
    "# pprint(table)\n",
    "# pprint(table_rows)\n",
    "\n",
    "\n",
    "# header = table.find_all('th')\n",
    "# pprint(header)\n"
   ]
  },
  {
   "attachments": {},
   "cell_type": "markdown",
   "metadata": {},
   "source": [
    "### Step 3: Store the Data\n",
    "\n",
    "Assemble the scraped data into a Pandas DataFrame. The columns should have the same headings as the table on the website. Here’s an explanation of the column headings:\n",
    "\n",
    "* `id`: the identification number of a single transmission from the Curiosity rover\n",
    "* `terrestrial_date`: the date on Earth\n",
    "* `sol`: the number of elapsed sols (Martian days) since Curiosity landed on Mars\n",
    "* `ls`: the solar longitude\n",
    "* `month`: the Martian month\n",
    "* `min_temp`: the minimum temperature, in Celsius, of a single Martian day (sol)\n",
    "* `pressure`: The atmospheric pressure at Curiosity's location"
   ]
  },
  {
   "cell_type": "code",
   "execution_count": null,
   "metadata": {},
   "outputs": [],
   "source": [
    "# Store the table data from above- using table_rows created \n",
    "mars_temp = []\n",
    "\n",
    "# Loop through the table_rows data to get td values .\n",
    "for row in table_rows:\n",
    "    data = row.find_all('td')\n",
    "    row =[col.text for col in data]\n",
    "    mars_temp.append(row)\n",
    "    \n",
    "print(mars_temp)\n"
   ]
  },
  {
   "cell_type": "code",
   "execution_count": null,
   "metadata": {},
   "outputs": [],
   "source": [
    "#Create DF Headers\n",
    "# Store header data from above table object\n",
    "header = table.find_all('th')\n",
    "\n",
    "# Extract the text content from each item in the 'header' list using list comprehension\n",
    "header_text_list = [item.text.strip() for item in header]\n",
    "\n",
    "# The 'header_text_list' will contain only the text content of each header item\n",
    "header_text_list"
   ]
  },
  {
   "cell_type": "code",
   "execution_count": null,
   "metadata": {},
   "outputs": [],
   "source": [
    "# Create a Pandas DataFrame by using the list of rows and a list of the column names\n",
    "mars_df = pd.DataFrame(mars_temp, columns = header_text_list)\n"
   ]
  },
  {
   "cell_type": "code",
   "execution_count": null,
   "metadata": {},
   "outputs": [],
   "source": [
    "# Confirm DataFrame was created successfully\n",
    "mars_df.head(10)"
   ]
  },
  {
   "attachments": {},
   "cell_type": "markdown",
   "metadata": {},
   "source": [
    "### Step 4: Prepare Data for Analysis\n",
    "\n",
    "Examine the data types that are currently associated with each column. If necessary, cast (or convert) the data to the appropriate `datetime`, `int`, or `float` data types.\n",
    "\n",
    "  > **Hint** You can use the Pandas `astype` and `to_datetime` methods to accomplish this task.\n"
   ]
  },
  {
   "cell_type": "code",
   "execution_count": null,
   "metadata": {},
   "outputs": [],
   "source": [
    "# Examine data type of each column\n",
    "mars_df.dtypes"
   ]
  },
  {
   "cell_type": "code",
   "execution_count": null,
   "metadata": {},
   "outputs": [],
   "source": [
    "# Change data types for data analysis\n",
    "mars_temp_df= mars_df.astype({\"sol\": int, \"ls\": int, \"month\": int, \"min_temp\": float, \"pressure\": float})\n",
    "#datetime type\n",
    "mars_temp_df[\"terrestrial_date\"]= pd.to_datetime(mars_df[\"terrestrial_date\"])\n"
   ]
  },
  {
   "cell_type": "code",
   "execution_count": null,
   "metadata": {},
   "outputs": [],
   "source": [
    "# Confirm type changes were successful by examining data types again\n",
    "mars_temp_df.dtypes"
   ]
  },
  {
   "attachments": {},
   "cell_type": "markdown",
   "metadata": {},
   "source": [
    "### Step 5: Analyse the Data\n",
    "\n",
    "Analyse your dataset by using Pandas functions to answer the following questions:\n",
    "\n",
    "1. How many months exist on Mars?\n",
    "2. How many Martian (and not Earth) days worth of data exist in the scraped dataset?\n",
    "3. What are the coldest and the warmest months on Mars (at the location of Curiosity)? To answer this question:\n",
    "    * Find the average the minimum daily temperature for all of the months.\n",
    "    * Plot the results as a bar chart.\n",
    "4. Which months have the lowest and the highest atmospheric pressure on Mars? To answer this question:\n",
    "    * Find the average the daily atmospheric pressure of all the months.\n",
    "    * Plot the results as a bar chart.\n",
    "5. About how many terrestrial (Earth) days exist in a Martian year? To answer this question:\n",
    "    * Consider how many days elapse on Earth in the time that Mars circles the Sun once.\n",
    "    * Visually estimate the result by plotting the daily minimum temperature.\n"
   ]
  },
  {
   "cell_type": "code",
   "execution_count": null,
   "metadata": {},
   "outputs": [],
   "source": [
    "# 1. How many months are there on Mars?\n",
    "month_counts = mars_temp_df[\"month\"].value_counts().sort_index()\n",
    "print(f\"there are {month_counts} months on Mars)"
   ]
  },
  {
   "cell_type": "code",
   "execution_count": null,
   "metadata": {},
   "outputs": [],
   "source": [
    "# 2. How many Martian days' worth of data are there?\n",
    "mars_day = (len(mars_temp_df[\"sol\"].unique()))\n",
    "print(f\" There are approximately {mars_day} martian days worth of data in this set\")\n"
   ]
  },
  {
   "cell_type": "code",
   "execution_count": null,
   "metadata": {},
   "outputs": [],
   "source": [
    "# 3. What is the average low temperature by month?\n",
    "\n",
    "# Calculate the average minimum temperature for each month\n",
    "average_min_temp_by_month = mars_temp_df.groupby(\"month\")[\"min_temp\"].mean()\n",
    "\n",
    "print(average_min_temp_by_month)\n"
   ]
  },
  {
   "cell_type": "code",
   "execution_count": null,
   "metadata": {},
   "outputs": [],
   "source": [
    "# Plot the average temperature by month\n",
    "average_min_temp_by_month.plot(kind=\"bar\")\n",
    "plt.ylabel(\"Average Min Temp (Celcius)\")\n",
    "plt.title(\"Average Temperature By Month on Mars\")\n",
    "plt.xlabel(\"Martian Month\")\n",
    "plt.show"
   ]
  },
  {
   "cell_type": "code",
   "execution_count": null,
   "metadata": {},
   "outputs": [],
   "source": [
    "# Identify the coldest and hottest months in Curiosity's location\n",
    "\n",
    "# Calculate the average minimum temperature for each month and sort by temperature\n",
    "ranked_av_min = mars_temp_df.groupby(\"month\")[\"min_temp\"].mean().sort_values()\n",
    "\n",
    "# Define a color map (dark blue to light blue)\n",
    "cmap = plt.get_cmap('Blues')\n",
    "\n",
    "# Normalize the data to scale the color from min to max temperature\n",
    "normalize = mcolors.Normalize(vmin=ranked_av_min.min(), vmax=ranked_av_min.max())\n",
    "\n",
    "# Create a bar plot with scaled color\n",
    "plt.bar(ranked_av_min.index, ranked_av_min.values,\n",
    "        color=cmap(normalize(ranked_av_min.values)), edgecolor='black')\n",
    "plt.ylabel(\"Average Min Temp (Celsius)\")\n",
    "plt.xlabel(\"Martian Month\")\n",
    "plt.title(\"Ave Min Temp by Month on Mars\")\n",
    "\n",
    "# Get the coldest and hottest months\n",
    "coldest_month = ranked_av_min.idxmin()\n",
    "coldest_temp = ranked_av_min.loc[coldest_month]\n",
    "hottest_month = ranked_av_min.idxmax()\n",
    "hottest_temp = ranked_av_min.loc[hottest_month]\n",
    "\n",
    "# Add annotations for coldest and hottest months\n",
    "plt.annotate(\"Coldest\", xy=(coldest_month, ranked_av_min.min()), xytext=(coldest_month, ranked_av_min.min() - 10),\n",
    "             arrowprops=dict(facecolor='black', arrowstyle=\"wedge,tail_width=0.7\", alpha=0.5))\n",
    "plt.annotate(\"Hottest\", xy=(hottest_month, ranked_av_min.max()), xytext=(hottest_month, ranked_av_min.max() + 3),\n",
    "             arrowprops=dict(facecolor='black', arrowstyle=\"wedge,tail_width=0.7\", alpha=0.5))\n",
    "\n",
    "plt.grid(axis='y', linestyle='--', alpha=0.7)\n",
    "plt.show()\n",
    "\n",
    "print(f\"The coldest month is month {coldest_month}, with an average minimum temperature of {coldest_temp:.2f} Celsius.\")\n",
    "print(f\"The hottest month is month {hottest_month}, with an average minimum temperature of {hottest_temp:.2f} Celsius.\")\n"
   ]
  },
  {
   "cell_type": "code",
   "execution_count": null,
   "metadata": {},
   "outputs": [],
   "source": [
    "# 4. Average pressure by Martian month\n",
    "average_pressure_by_month = mars_temp_df.groupby(\"month\")[\"pressure\"].mean()\n",
    "print(average_min_temp_by_month)"
   ]
  },
  {
   "cell_type": "code",
   "execution_count": null,
   "metadata": {},
   "outputs": [],
   "source": [
    "# Plot the average pressure by month\n",
    "\n",
    "# Calculate the average minimum temperature for each month and sort by temperature\n",
    "# Define a color map (dark blue to light blue)\n",
    "cmap = plt.get_cmap('Reds')\n",
    "\n",
    "# Normalize the data to scale the color from min to max temperature\n",
    "normalize = mcolors.Normalize(vmin=average_pressure_by_month.min(), vmax=average_pressure_by_month.max())\n",
    "\n",
    "\n",
    "hp_month = average_pressure_by_month.idxmin()\n",
    "hp_pressure = average_pressure_by_month.loc[hp_month]\n",
    "lp_month = average_pressure_by_month.idxmax()\n",
    "lp_pressure = average_pressure_by_month.loc[lp_month]\n",
    "\n",
    "\n",
    "# Create a bar plot with scaled color\n",
    "plt.bar(average_pressure_by_month.index, average_pressure_by_month.values,\n",
    "        color=cmap(normalize(average_pressure_by_month.values)), edgecolor='black')\n",
    "plt.ylabel(\" Pressure\")\n",
    "plt.xlabel(\"Martian Month\")\n",
    "plt.title(\"Atmospheric Pressure by Month on Mars\")\n",
    "\n",
    "\n",
    "\n",
    "plt.grid(axis='y', linestyle='--', alpha=0.7)\n",
    "plt.show()\n",
    "\n",
    "print(f\"The Highest Atmospheric Pressure month is month {hp_month}, with an average minimum temperature of {hp_pressure:.2f}\")\n",
    "print(f\"The Lowest Atmospheric Pressure month is month {lp_month}, with an average minimum temperature of {lp_pressure:.2f}\")\n"
   ]
  },
  {
   "cell_type": "code",
   "execution_count": null,
   "metadata": {},
   "outputs": [],
   "source": [
    "# 5. How many terrestrial (earth) days are there in a Martian year?\n",
    "\n",
    "mars_temp_df[\"min_temp\"].plot(kind=\"line\")\n",
    "plt.ylabel(\"Minimum Temperature\")\n",
    "plt.xlabel(\"Number of Terrestrial Days\")\n",
    "plt.title(\"Martian Minimum Temperature Trends over Terrestiral\")\n",
    "plt.show"
   ]
  },
  {
   "attachments": {},
   "cell_type": "markdown",
   "metadata": {},
   "source": [
    "On average, the third month has the coldest minimum temperature on Mars, and the eighth month is the warmest. But it is always very cold there in human terms!\n",
    "\n"
   ]
  },
  {
   "attachments": {},
   "cell_type": "markdown",
   "metadata": {},
   "source": [
    "Atmospheric pressure is, on average, lowest in the sixth month and highest in the ninth."
   ]
  },
  {
   "attachments": {},
   "cell_type": "markdown",
   "metadata": {},
   "source": [
    "The distance from peak to peak is roughly 1425-750, or 675 days. A year on Mars appears to be about 675 days from the plot. Internet search confirms that a Mars year is equivalent to 687 earth days."
   ]
  },
  {
   "attachments": {},
   "cell_type": "markdown",
   "metadata": {},
   "source": [
    "### Step 6: Save the Data\n",
    "\n",
    "Export the DataFrame to a CSV file."
   ]
  },
  {
   "cell_type": "code",
   "execution_count": null,
   "metadata": {},
   "outputs": [],
   "source": [
    "# Write the data to a CSV\n",
    "mars_temp_df.to_csv('mars_temp_df.csv')"
   ]
  },
  {
   "cell_type": "code",
   "execution_count": null,
   "metadata": {},
   "outputs": [],
   "source": [
    "browser.quit()"
   ]
  }
 ],
 "metadata": {
  "kernelspec": {
   "display_name": "Python 3 (ipykernel)",
   "language": "python",
   "name": "python3"
  },
  "language_info": {
   "codemirror_mode": {
    "name": "ipython",
    "version": 3
   },
   "file_extension": ".py",
   "mimetype": "text/x-python",
   "name": "python",
   "nbconvert_exporter": "python",
   "pygments_lexer": "ipython3",
   "version": "3.10.9"
  },
  "vscode": {
   "interpreter": {
    "hash": "31f2aee4e71d21fbe5cf8b01ff0e069b9275f58929596ceb00d14d90e3e16cd6"
   }
  }
 },
 "nbformat": 4,
 "nbformat_minor": 4
}
