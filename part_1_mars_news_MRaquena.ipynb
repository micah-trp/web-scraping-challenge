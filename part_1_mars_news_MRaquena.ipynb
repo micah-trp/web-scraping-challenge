{
 "cells": [
  {
   "attachments": {},
   "cell_type": "markdown",
   "metadata": {},
   "source": [
    "# Module 12 Challenge\n",
    "## Deliverable 1: Scrape Titles and Preview Text from Mars News"
   ]
  },
  {
   "cell_type": "code",
   "execution_count": 1,
   "metadata": {},
   "outputs": [],
   "source": [
    "# first  Import Splinter and BeautifulSoup\n",
    "from splinter import Browser\n",
    "from bs4 import BeautifulSoup as soup\n",
    "from webdriver_manager.chrome import ChromeDriverManager\n",
    "from pprint import pprint"
   ]
  },
  {
   "cell_type": "code",
   "execution_count": 2,
   "metadata": {},
   "outputs": [],
   "source": [
    "# Set up Splinter \n",
    "path= {'executable_path':ChromeDriverManager().install()}\n",
    "browser = Browser('chrome', ** path, headless= False)\n",
    "\n",
    "\n",
    "# #Altenrative Method if cannot set up spliter.\n",
    "# browser = Browser('chrome')\n",
    "# #Define the URL from below\n",
    "# url = \"https://static.bc-edx.com/data/web/mars_news/index.html\"\n",
    "# # Visit the Mars news site\n",
    "# browser.visit(url)\n",
    "# html = browser.html"
   ]
  },
  {
   "attachments": {},
   "cell_type": "markdown",
   "metadata": {},
   "source": [
    "### Step 1: Visit the Website\n",
    "\n",
    "1. Use automated browsing to visit the [Mars news site](https://static.bc-edx.com/data/web/mars_news/index.html). Inspect the page to identify which elements to scrape.\n",
    "\n",
    "      > **Hint** To identify which elements to scrape, you might want to inspect the page by using Chrome DevTools."
   ]
  },
  {
   "cell_type": "code",
   "execution_count": 3,
   "metadata": {},
   "outputs": [],
   "source": [
    "#Define the URL from below\n",
    "url = 'https://static.bc-edx.com/data/web/mars_news/index.html'\n",
    "browser.visit(url)\n",
    "\n",
    "# Visit the Mars news site\n",
    "html = browser.html"
   ]
  },
  {
   "attachments": {},
   "cell_type": "markdown",
   "metadata": {},
   "source": [
    "### Step 2: Scrape the Website\n",
    "\n",
    "Create a Beautiful Soup object and use it to extract text elements from the website."
   ]
  },
  {
   "cell_type": "code",
   "execution_count": 4,
   "metadata": {},
   "outputs": [],
   "source": [
    "# Create a Beautiful Soup object\n",
    "soup = soup(html, 'html.parser')\n",
    "# soup"
   ]
  },
  {
   "cell_type": "code",
   "execution_count": 8,
   "metadata": {},
   "outputs": [],
   "source": [
    "# Extract all the text elements part 1:\n",
    "\n",
    "\n",
    "## use (div, class = \"list_date\") as row > from row can see that required text elements fall under:\n",
    "#  (div, class = \"content_title\") as title\n",
    "#  (div, class = \"article_teaser_body\") as preview\n",
    "\n",
    "text_elements = soup.find_all(\"div\", class_ =\"list_text\")\n",
    "\n",
    "# print(\"--------------------\")\n",
    "# print(\"text elements --use (div, class = list_date) as row > from row can see that required text elements fall under:\")\n",
    "# print(\"(div, class = content_title) as title\")\n",
    "# print(\"(div, class = article_teaser_body) as preview\")\n",
    "# print(\"--------------------\")\n",
    "# print(text_elements)\n"
   ]
  },
  {
   "cell_type": "code",
   "execution_count": 6,
   "metadata": {},
   "outputs": [
    {
     "name": "stdout",
     "output_type": "stream",
     "text": [
      "class =content_title\n",
      "[<div class=\"content_title\">NASA's MAVEN Observes Martian Light Show Caused by Major Solar Storm</div>, <div class=\"content_title\">NASA Prepares to Say 'Farewell' to InSight Spacecraft</div>, <div class=\"content_title\">NASA and ESA Agree on Next Steps to Return Mars Samples to Earth</div>, <div class=\"content_title\">NASA's InSight Lander Detects Stunning Meteoroid Impact on Mars</div>, <div class=\"content_title\">NASA To Host Briefing on InSight, Mars Reconnaissance Orbiter Findings</div>, <div class=\"content_title\">Why NASA Is Trying To Crash Land on Mars</div>, <div class=\"content_title\">Curiosity Mars Rover Reaches Long-Awaited Salty Region</div>, <div class=\"content_title\">Mars Mission Shields Up for Tests</div>, <div class=\"content_title\">NASA's InSight Waits Out Dust Storm</div>, <div class=\"content_title\">NASA's InSight 'Hears' Its First Meteoroid Impacts on Mars</div>, <div class=\"content_title\">NASA's Perseverance Rover Investigates Geologically Rich Mars Terrain</div>, <div class=\"content_title\">NASA to Host Briefing on Perseverance Mars Rover Mission Operations</div>, <div class=\"content_title\">NASA's Perseverance Makes New Discoveries in Mars' Jezero Crater</div>, <div class=\"content_title\">10 Years Since Landing, NASA's Curiosity Mars Rover Still Has Drive</div>, <div class=\"content_title\">SAM's Top 5 Discoveries Aboard NASA's Curiosity Rover at Mars</div>]\n",
      "class =article_teaser_body\n",
      "[<div class=\"article_teaser_body\">For the first time in its eight years orbiting Mars, NASA’s MAVEN mission witnessed two different types of ultraviolet aurorae simultaneously, the result of solar storms that began on Aug. 27.</div>, <div class=\"article_teaser_body\">A closer look at what goes into wrapping up the mission as the spacecraft’s power supply continues to dwindle.</div>, <div class=\"article_teaser_body\">The agency’s Perseverance rover will establish the first sample depot on Mars.</div>, <div class=\"article_teaser_body\">The agency’s lander felt the ground shake during the impact while cameras aboard the Mars Reconnaissance Orbiter spotted the yawning new crater from space.</div>, <div class=\"article_teaser_body\">Scientists from two Mars missions will discuss how they combined images and data for a major finding on the Red Planet.</div>, <div class=\"article_teaser_body\">Like a car’s crumple zone, the experimental SHIELD lander is designed to absorb a hard impact.</div>, <div class=\"article_teaser_body\">After years of climbing, the Mars rover has arrived at a special region believed to have formed as Mars’ climate was drying.</div>, <div class=\"article_teaser_body\">Protecting Mars Sample Return spacecraft from micrometeorites requires high-caliber work.</div>, <div class=\"article_teaser_body\">InSight’s team is taking steps to help the solar-powered lander continue operating for as long as possible.</div>, <div class=\"article_teaser_body\">The Mars lander’s seismometer has picked up vibrations from four separate impacts in the past two years.</div>, <div class=\"article_teaser_body\">The latest findings provide greater detail on a region of the Red Planet that has a watery past and is yielding promising samples for the NASA-ESA Mars Sample Return campaign.</div>, <div class=\"article_teaser_body\">Members of the mission will discuss the rover’s activities as it gathers samples in an ancient river delta.</div>, <div class=\"article_teaser_body\">The rover found that Jezero Crater’s floor is made up of volcanic rocks that have interacted with water.</div>, <div class=\"article_teaser_body\">Despite signs of wear, the intrepid spacecraft is about to start an exciting new chapter of its mission as it climbs a Martian mountain.</div>, <div class=\"article_teaser_body\">“Selfie” of the Curiosity rover with inset showing the SAM instrument prior to installation on the rover.</div>]\n"
     ]
    }
   ],
   "source": [
    "# Extract all the text elements Part 2:\n",
    "# show title and preview individually in list. \n",
    "\n",
    "#title : class=\"content_title\"\n",
    "all_titles = soup.find_all(class_='content_title')\n",
    "print(\"class =content_title\")\n",
    "print(all_titles)\n",
    "\n",
    "\n",
    "#preview = class = \"article_teaser_body\"\n",
    "all_preview = soup.find_all(class_='article_teaser_body')\n",
    "print(\"class =article_teaser_body\")\n",
    "print(all_preview)\n",
    "\n"
   ]
  },
  {
   "cell_type": "code",
   "execution_count": 9,
   "metadata": {},
   "outputs": [
    {
     "name": "stdout",
     "output_type": "stream",
     "text": [
      "titles\n",
      "[\"NASA's MAVEN Observes Martian Light Show Caused by Major Solar Storm\", \"NASA Prepares to Say 'Farewell' to InSight Spacecraft\", 'NASA and ESA Agree on Next Steps to Return Mars Samples to Earth', \"NASA's InSight Lander Detects Stunning Meteoroid Impact on Mars\", 'NASA To Host Briefing on InSight, Mars Reconnaissance Orbiter Findings', 'Why NASA Is Trying To Crash Land on Mars', 'Curiosity Mars Rover Reaches Long-Awaited Salty Region', 'Mars Mission Shields Up for Tests', \"NASA's InSight Waits Out Dust Storm\", \"NASA's InSight 'Hears' Its First Meteoroid Impacts on Mars\", \"NASA's Perseverance Rover Investigates Geologically Rich Mars Terrain\", 'NASA to Host Briefing on Perseverance Mars Rover Mission Operations', \"NASA's Perseverance Makes New Discoveries in Mars' Jezero Crater\", \"10 Years Since Landing, NASA's Curiosity Mars Rover Still Has Drive\", \"SAM's Top 5 Discoveries Aboard NASA's Curiosity Rover at Mars\"]\n",
      "preview\n",
      "['For the first time in its eight years orbiting Mars, NASA’s MAVEN mission witnessed two different types of ultraviolet aurorae simultaneously, the result of solar storms that began on Aug. 27.', 'A closer look at what goes into wrapping up the mission as the spacecraft’s power supply continues to dwindle.', 'The agency’s Perseverance rover will establish the first sample depot on Mars.', 'The agency’s lander felt the ground shake during the impact while cameras aboard the Mars Reconnaissance Orbiter spotted the yawning new crater from space.', 'Scientists from two Mars missions will discuss how they combined images and data for a major finding on the Red Planet.', 'Like a car’s crumple zone, the experimental SHIELD lander is designed to absorb a hard impact.', 'After years of climbing, the Mars rover has arrived at a special region believed to have formed as Mars’ climate was drying.', 'Protecting Mars Sample Return spacecraft from micrometeorites requires high-caliber work.', 'InSight’s team is taking steps to help the solar-powered lander continue operating for as long as possible.', 'The Mars lander’s seismometer has picked up vibrations from four separate impacts in the past two years.', 'The latest findings provide greater detail on a region of the Red Planet that has a watery past and is yielding promising samples for the NASA-ESA Mars Sample Return campaign.', 'Members of the mission will discuss the rover’s activities as it gathers samples in an ancient river delta.', 'The rover found that Jezero Crater’s floor is made up of volcanic rocks that have interacted with water.', 'Despite signs of wear, the intrepid spacecraft is about to start an exciting new chapter of its mission as it climbs a Martian mountain.', '“Selfie” of the Curiosity rover with inset showing the SAM instrument prior to installation on the rover.']\n"
     ]
    }
   ],
   "source": [
    "\n",
    "# Clean up and show title and preview as list. \n",
    "titles = [title.text for title in all_titles]\n",
    "print(\"titles\")\n",
    "print(titles)\n",
    "preview = [preview.text for preview in all_preview]\n",
    "print(\"preview\")\n",
    "print(preview)\n"
   ]
  },
  {
   "attachments": {},
   "cell_type": "markdown",
   "metadata": {},
   "source": [
    "### Step 3: Store the Results\n",
    "\n",
    "Extract the titles and preview text of the news articles that you scraped. Store the scraping results in Python data structures as follows:\n",
    "\n",
    "* Store each title-and-preview pair in a Python dictionary. And, give each dictionary two keys: `title` and `preview`. An example is the following:\n",
    "\n",
    "  ```python\n",
    "  {'title': \"NASA's MAVEN Observes Martian Light Show Caused by Major Solar Storm\", \n",
    "   'preview': \"For the first time in its eight years orbiting Mars, NASA’s MAVEN mission witnessed two different types of ultraviolet aurorae simultaneously, the result of solar storms that began on Aug. 27.\"\n",
    "  }\n",
    "  ```\n",
    "\n",
    "* Store all the dictionaries in a Python list.\n",
    "\n",
    "* Print the list in your notebook."
   ]
  },
  {
   "cell_type": "code",
   "execution_count": 10,
   "metadata": {},
   "outputs": [],
   "source": [
    "# Create an empty list to store the dictionaries\n",
    "articles_list = []"
   ]
  },
  {
   "cell_type": "code",
   "execution_count": 11,
   "metadata": {},
   "outputs": [],
   "source": [
    "# Loop through the text elements\n",
    "# Extract the title and preview text from the elements\n",
    "# Store each title and preview pair in a dictionary\n",
    "# Add the dictionary to the list\n",
    "# Create a function to perform the web scraping\n",
    "\n",
    "# Loop through the text elements\n",
    "for text in text_elements:\n",
    "    # Extract the title and preview text from the elements\n",
    "    title = text.find('div', class_='content_title').get_text()\n",
    "    preview = text.find('div', class_='article_teaser_body').get_text()\n",
    "# Store each title and preview pair in a dictionary\n",
    "    info_Pairs= {\n",
    "        'title': title,\n",
    "        'preview':preview\n",
    "    }\n",
    "      \n",
    "# Add the dictionary to the list\n",
    "    articles_list.append(info_Pairs)"
   ]
  },
  {
   "cell_type": "code",
   "execution_count": 13,
   "metadata": {},
   "outputs": [
    {
     "name": "stdout",
     "output_type": "stream",
     "text": [
      "[{'preview': 'For the first time in its eight years orbiting Mars, NASA’s '\n",
      "             'MAVEN mission witnessed two different types of ultraviolet '\n",
      "             'aurorae simultaneously, the result of solar storms that began on '\n",
      "             'Aug. 27.',\n",
      "  'title': \"NASA's MAVEN Observes Martian Light Show Caused by Major Solar \"\n",
      "           'Storm'},\n",
      " {'preview': 'A closer look at what goes into wrapping up the mission as the '\n",
      "             'spacecraft’s power supply continues to dwindle.',\n",
      "  'title': \"NASA Prepares to Say 'Farewell' to InSight Spacecraft\"},\n",
      " {'preview': 'The agency’s Perseverance rover will establish the first sample '\n",
      "             'depot on Mars.',\n",
      "  'title': 'NASA and ESA Agree on Next Steps to Return Mars Samples to Earth'},\n",
      " {'preview': 'The agency’s lander felt the ground shake during the impact '\n",
      "             'while cameras aboard the Mars Reconnaissance Orbiter spotted the '\n",
      "             'yawning new crater from space.',\n",
      "  'title': \"NASA's InSight Lander Detects Stunning Meteoroid Impact on Mars\"},\n",
      " {'preview': 'Scientists from two Mars missions will discuss how they combined '\n",
      "             'images and data for a major finding on the Red Planet.',\n",
      "  'title': 'NASA To Host Briefing on InSight, Mars Reconnaissance Orbiter '\n",
      "           'Findings'},\n",
      " {'preview': 'Like a car’s crumple zone, the experimental SHIELD lander is '\n",
      "             'designed to absorb a hard impact.',\n",
      "  'title': 'Why NASA Is Trying To Crash Land on Mars'},\n",
      " {'preview': 'After years of climbing, the Mars rover has arrived at a special '\n",
      "             'region believed to have formed as Mars’ climate was drying.',\n",
      "  'title': 'Curiosity Mars Rover Reaches Long-Awaited Salty Region'},\n",
      " {'preview': 'Protecting Mars Sample Return spacecraft from micrometeorites '\n",
      "             'requires high-caliber work.',\n",
      "  'title': 'Mars Mission Shields Up for Tests'},\n",
      " {'preview': 'InSight’s team is taking steps to help the solar-powered lander '\n",
      "             'continue operating for as long as possible.',\n",
      "  'title': \"NASA's InSight Waits Out Dust Storm\"},\n",
      " {'preview': 'The Mars lander’s seismometer has picked up vibrations from four '\n",
      "             'separate impacts in the past two years.',\n",
      "  'title': \"NASA's InSight 'Hears' Its First Meteoroid Impacts on Mars\"},\n",
      " {'preview': 'The latest findings provide greater detail on a region of the '\n",
      "             'Red Planet that has a watery past and is yielding promising '\n",
      "             'samples for the NASA-ESA Mars Sample Return campaign.',\n",
      "  'title': \"NASA's Perseverance Rover Investigates Geologically Rich Mars \"\n",
      "           'Terrain'},\n",
      " {'preview': 'Members of the mission will discuss the rover’s activities as it '\n",
      "             'gathers samples in an ancient river delta.',\n",
      "  'title': 'NASA to Host Briefing on Perseverance Mars Rover Mission '\n",
      "           'Operations'},\n",
      " {'preview': 'The rover found that Jezero Crater’s floor is made up of '\n",
      "             'volcanic rocks that have interacted with water.',\n",
      "  'title': \"NASA's Perseverance Makes New Discoveries in Mars' Jezero Crater\"},\n",
      " {'preview': 'Despite signs of wear, the intrepid spacecraft is about to start '\n",
      "             'an exciting new chapter of its mission as it climbs a Martian '\n",
      "             'mountain.',\n",
      "  'title': \"10 Years Since Landing, NASA's Curiosity Mars Rover Still Has \"\n",
      "           'Drive'},\n",
      " {'preview': '“Selfie” of the Curiosity rover with inset showing the SAM '\n",
      "             'instrument prior to installation on the rover.',\n",
      "  'title': \"SAM's Top 5 Discoveries Aboard NASA's Curiosity Rover at Mars\"}]\n"
     ]
    }
   ],
   "source": [
    "# Print the list to confirm success\n",
    "pprint(articles_list)"
   ]
  },
  {
   "cell_type": "code",
   "execution_count": 14,
   "metadata": {},
   "outputs": [],
   "source": [
    "# Close Session\n",
    "browser.quit()"
   ]
  }
 ],
 "metadata": {
  "kernelspec": {
   "display_name": "Python 3 (ipykernel)",
   "language": "python",
   "name": "python3"
  },
  "language_info": {
   "codemirror_mode": {
    "name": "ipython",
    "version": 3
   },
   "file_extension": ".py",
   "mimetype": "text/x-python",
   "name": "python",
   "nbconvert_exporter": "python",
   "pygments_lexer": "ipython3",
   "version": "3.10.9"
  },
  "vscode": {
   "interpreter": {
    "hash": "31f2aee4e71d21fbe5cf8b01ff0e069b9275f58929596ceb00d14d90e3e16cd6"
   }
  }
 },
 "nbformat": 4,
 "nbformat_minor": 4
}
